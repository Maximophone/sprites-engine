{
 "cells": [
  {
   "cell_type": "code",
   "execution_count": 23,
   "metadata": {
    "collapsed": true
   },
   "outputs": [],
   "source": [
    "from globalvars import *\n",
    "from spritesheet import *\n",
    "import numpy as np\n",
    "import pygame"
   ]
  },
  {
   "cell_type": "code",
   "execution_count": 1,
   "metadata": {
    "collapsed": true
   },
   "outputs": [],
   "source": [
    "class Map(object):\n",
    "    \n",
    "    def __init__(self):\n",
    "        self.init()\n",
    "        \n",
    "    def init(self):\n",
    "        pass\n",
    "    \n",
    "    def get_values(self,rect):\n",
    "        raise NotImplemented\n",
    "    \n",
    "    def get_value(self,i,j):\n",
    "        raise NotImplemented\n",
    "        "
   ]
  },
  {
   "cell_type": "code",
   "execution_count": 17,
   "metadata": {
    "collapsed": true
   },
   "outputs": [],
   "source": [
    "class MapGraphic(object):\n",
    "    def __init__(self,map_):\n",
    "        self.map_ = map_\n",
    "        self.init()\n",
    "        \n",
    "    def init(self):\n",
    "        pass\n",
    "        \n",
    "    def get_image(self,rect):\n",
    "        raise NotImplemented"
   ]
  },
  {
   "cell_type": "code",
   "execution_count": 11,
   "metadata": {
    "collapsed": true
   },
   "outputs": [],
   "source": [
    "class MyMap(Map):\n",
    "    \n",
    "    def init(self):\n",
    "        ground_map = np.random.uniform(size=(MAP_SIZE,MAP_SIZE))<EARTH_DENSITY\n",
    "        ground_map[:,0] = np.zeros((MAP_SIZE,))\n",
    "        ground_map[:,-1] = np.zeros((MAP_SIZE,))\n",
    "        ground_map[0,:] = np.zeros((MAP_SIZE,))\n",
    "        ground_map[-1,:] = np.zeros((MAP_SIZE,))\n",
    "        \n",
    "        self.map_ = ground_map\n",
    "\n",
    "    def get_value(self,i,j):\n",
    "        return self.map_.arr[i,j]\n",
    "    \n",
    "    def get_values(self,rect):\n",
    "        return self.map_.arr[rect[0]:rect[0]+rect[2],rect[1]:rect[1]+rect[3]]"
   ]
  },
  {
   "cell_type": "code",
   "execution_count": 33,
   "metadata": {
    "collapsed": true
   },
   "outputs": [],
   "source": [
    "class MyMap_Graphic(MapGraphic):\n",
    "    def init(self):\n",
    "        spritesheet = SpriteSheet(\"./GroundMap.png\")\n",
    "        self.tiler = Tiler8bit(spritesheet,N_PER_ROW,SIZE,index_dict=GROUNDMAP_TILES_DICT)\n",
    "        \n",
    "    def get_image(self,rect):\n",
    "        temp_map = BinMap(self.map_.get_values(rect))\n",
    "        return self.tiler.get_surface(temp_map)\n",
    "        \n",
    "        "
   ]
  },
  {
   "cell_type": "code",
   "execution_count": null,
   "metadata": {
    "collapsed": true
   },
   "outputs": [],
   "source": []
  },
  {
   "cell_type": "code",
   "execution_count": 27,
   "metadata": {
    "collapsed": false
   },
   "outputs": [
    {
     "data": {
      "text/plain": [
       "(6, 0)"
      ]
     },
     "execution_count": 27,
     "metadata": {},
     "output_type": "execute_result"
    }
   ],
   "source": [
    "pygame.init()"
   ]
  },
  {
   "cell_type": "code",
   "execution_count": 29,
   "metadata": {
    "collapsed": false
   },
   "outputs": [],
   "source": [
    "screen = pygame.display.set_mode((400,300))"
   ]
  },
  {
   "cell_type": "code",
   "execution_count": 30,
   "metadata": {
    "collapsed": true
   },
   "outputs": [],
   "source": [
    "my_map = MyMap()"
   ]
  },
  {
   "cell_type": "code",
   "execution_count": 34,
   "metadata": {
    "collapsed": false
   },
   "outputs": [],
   "source": [
    "map_graphic = MyMap_Graphic(my_map)"
   ]
  },
  {
   "cell_type": "code",
   "execution_count": 35,
   "metadata": {
    "collapsed": false
   },
   "outputs": [
    {
     "data": {
      "text/plain": [
       "<rect(0, 0, 320, 300)>"
      ]
     },
     "execution_count": 35,
     "metadata": {},
     "output_type": "execute_result"
    }
   ],
   "source": [
    "screen.blit(map_graphic.get_image((0,0,10,10)),(0,0))"
   ]
  },
  {
   "cell_type": "code",
   "execution_count": 36,
   "metadata": {
    "collapsed": true
   },
   "outputs": [],
   "source": [
    "pygame.display.flip()"
   ]
  },
  {
   "cell_type": "code",
   "execution_count": 20,
   "metadata": {
    "collapsed": true
   },
   "outputs": [],
   "source": [
    "Tiler8bit?"
   ]
  },
  {
   "cell_type": "code",
   "execution_count": 19,
   "metadata": {
    "collapsed": true
   },
   "outputs": [],
   "source": [
    "SpriteSheet?"
   ]
  },
  {
   "cell_type": "code",
   "execution_count": 21,
   "metadata": {
    "collapsed": true
   },
   "outputs": [],
   "source": [
    "import globalvars"
   ]
  },
  {
   "cell_type": "code",
   "execution_count": 22,
   "metadata": {
    "collapsed": false
   },
   "outputs": [
    {
     "name": "stdout",
     "output_type": "stream",
     "text": [
      "('Unable to load spritesheet image: ', './GroundMap.png')\n"
     ]
    },
    {
     "ename": "SystemExit",
     "evalue": "cannot convert without pygame.display initialized",
     "output_type": "error",
     "traceback": [
      "An exception has occurred, use %tb to see the full traceback.\n",
      "\u001b[1;31mSystemExit\u001b[0m\u001b[1;31m:\u001b[0m cannot convert without pygame.display initialized\n"
     ]
    },
    {
     "name": "stderr",
     "output_type": "stream",
     "text": [
      "To exit: use 'exit', 'quit', or Ctrl-D.\n"
     ]
    }
   ],
   "source": [
    "spritesheet = SpriteSheet(\"./GroundMap.png\")\n",
    "tiler = Tiler8bit(spritesheet,N_PER_ROW,SIZE,index_dict=GROUNDMAP_TILES_DICT)"
   ]
  },
  {
   "cell_type": "code",
   "execution_count": 37,
   "metadata": {
    "collapsed": false
   },
   "outputs": [
    {
     "data": {
      "text/plain": [
       "30"
      ]
     },
     "execution_count": 37,
     "metadata": {},
     "output_type": "execute_result"
    }
   ],
   "source": [
    "MAP_SIZE"
   ]
  },
  {
   "cell_type": "code",
   "execution_count": null,
   "metadata": {
    "collapsed": true
   },
   "outputs": [],
   "source": []
  }
 ],
 "metadata": {
  "kernelspec": {
   "display_name": "Python 2",
   "language": "python",
   "name": "python2"
  },
  "language_info": {
   "codemirror_mode": {
    "name": "ipython",
    "version": 2
   },
   "file_extension": ".py",
   "mimetype": "text/x-python",
   "name": "python",
   "nbconvert_exporter": "python",
   "pygments_lexer": "ipython2",
   "version": "2.7.6"
  }
 },
 "nbformat": 4,
 "nbformat_minor": 0
}
